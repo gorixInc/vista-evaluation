{
  "cells": [
    {
      "cell_type": "code",
      "execution_count": 1,
      "id": "e8361c8a-747d-49e4-8b15-3db9ffc63eb3",
      "metadata": {
        "id": "e8361c8a-747d-49e4-8b15-3db9ffc63eb3",
        "outputId": "d7249381-db82-41d5-9a78-2f7ccd78d1bd",
        "tags": []
      },
      "outputs": [
        {
          "name": "stdout",
          "output_type": "stream",
          "text": [
            "Collecting wget\n",
            "  Downloading wget-3.2.zip (10 kB)\n",
            "  Preparing metadata (setup.py): started\n",
            "  Preparing metadata (setup.py): finished with status 'done'\n",
            "Building wheels for collected packages: wget\n",
            "  Building wheel for wget (setup.py): started\n",
            "  Building wheel for wget (setup.py): finished with status 'done'\n",
            "  Created wheel for wget: filename=wget-3.2-py3-none-any.whl size=9680 sha256=52f3313cdc342b6fd44db0e8bab7c723dfb9586f6c103c5fc67a653fbe588428\n",
            "  Stored in directory: c:\\users\\gordei\\appdata\\local\\pip\\cache\\wheels\\01\\46\\3b\\e29ffbe4ebe614ff224bad40fc6a5773a67a163251585a13a9\n",
            "Successfully built wget\n",
            "Installing collected packages: wget\n",
            "Successfully installed wget-3.2\n"
          ]
        }
      ],
      "source": [
        "!pip install wget"
      ]
    },
    {
      "cell_type": "code",
      "execution_count": 2,
      "id": "a9472798-749d-49d1-ae56-7f2cceb0054e",
      "metadata": {
        "id": "a9472798-749d-49d1-ae56-7f2cceb0054e",
        "outputId": "127417b9-4532-48a2-f981-1db56c9658b3",
        "tags": []
      },
      "outputs": [
        {
          "data": {
            "text/plain": [
              "'ebm-paper-mae-s2-backward_2022-09-21-12-34-47-resize.zip'"
            ]
          },
          "execution_count": 2,
          "metadata": {},
          "output_type": "execute_result"
        }
      ],
      "source": [
        "import wget\n",
        "\n",
        "url = 'https://owncloud.ut.ee/owncloud/s/cRj2teJCLpYpMmz/download?path=%2F&files=ebm-paper-mae-s2-backward_2022-09-21-12-34-47-resize.zip&downloadStartSecret=c9njqrgwdkm'\n",
        "wget.download(url)"
      ]
    },
    {
      "cell_type": "code",
      "execution_count": 4,
      "id": "f81a0da6-573c-4a52-8408-2c4bd36dabd4",
      "metadata": {
        "id": "f81a0da6-573c-4a52-8408-2c4bd36dabd4",
        "outputId": "82412a04-dc97-4757-c9b7-795e499e021b",
        "tags": []
      },
      "outputs": [
        {
          "name": "stderr",
          "output_type": "stream",
          "text": [
            "'unzip' is not recognized as an internal or external command,\n",
            "operable program or batch file.\n"
          ]
        }
      ],
      "source": [
        "!unzip trace_backward.zip"
      ]
    },
    {
      "cell_type": "code",
      "execution_count": null,
      "id": "73a156c7-b65b-4a0c-a0bd-dbf17034ccd1",
      "metadata": {
        "id": "73a156c7-b65b-4a0c-a0bd-dbf17034ccd1",
        "outputId": "d708b5cc-881c-4cb5-f347-d4c401a1b837",
        "tags": []
      },
      "outputs": [
        {
          "name": "stdout",
          "output_type": "stream",
          "text": [
            "Defaulting to user installation because normal site-packages is not writeable\n",
            "Collecting descartes==1.1.0\n",
            "  Using cached descartes-1.1.0-py3-none-any.whl (5.8 kB)\n",
            "Collecting ffio==0.1.0\n",
            "  Using cached ffio-0.1.0.tar.gz (11 kB)\n",
            "  Preparing metadata (setup.py) ... \u001b[?25ldone\n",
            "\u001b[?25hCollecting h5py==3.7.0\n",
            "  Downloading h5py-3.7.0-cp38-cp38-manylinux_2_12_x86_64.manylinux2010_x86_64.whl (4.5 MB)\n",
            "\u001b[2K     \u001b[90m━━━━━━━━━━━━━━━━━━━━━━━━━━━━━━━━━━━━━━━━\u001b[0m \u001b[32m4.5/4.5 MB\u001b[0m \u001b[31m14.3 MB/s\u001b[0m eta \u001b[36m0:00:00\u001b[0m00:01\u001b[0m00:01\u001b[0m\n",
            "\u001b[?25hCollecting imageio==2.22.4\n",
            "  Using cached imageio-2.22.4-py3-none-any.whl (3.4 MB)\n",
            "Collecting matplotlib==3.6.2\n",
            "  Downloading matplotlib-3.6.2-cp38-cp38-manylinux_2_12_x86_64.manylinux2010_x86_64.whl (9.4 MB)\n",
            "\u001b[2K     \u001b[90m━━━━━━━━━━━━━━━━━━━━━━━━━━━━━━━━━━━━━━━━\u001b[0m \u001b[32m9.4/9.4 MB\u001b[0m \u001b[31m6.3 MB/s\u001b[0m eta \u001b[36m0:00:00\u001b[0m00:01\u001b[0m00:01\u001b[0mm\n",
            "\u001b[?25hCollecting numpy==1.23.4\n",
            "  Downloading numpy-1.23.4-cp38-cp38-manylinux_2_17_x86_64.manylinux2014_x86_64.whl (17.1 MB)\n",
            "\u001b[2K     \u001b[90m━━━━━━━━━━━━━━━━━━━━━━━━━━━━━━━━━━━━━━━━\u001b[0m \u001b[32m17.1/17.1 MB\u001b[0m \u001b[31m55.5 MB/s\u001b[0m eta \u001b[36m0:00:00\u001b[0m00:01\u001b[0m00:01\u001b[0m\n",
            "\u001b[?25hCollecting onnxruntime==1.13.1\n",
            "  Downloading onnxruntime-1.13.1-cp38-cp38-manylinux_2_17_x86_64.manylinux2014_x86_64.whl (5.2 MB)\n",
            "\u001b[2K     \u001b[90m━━━━━━━━━━━━━━━━━━━━━━━━━━━━━━━━━━━━━━━━\u001b[0m \u001b[32m5.2/5.2 MB\u001b[0m \u001b[31m10.4 MB/s\u001b[0m eta \u001b[36m0:00:00\u001b[0m00:01\u001b[0m0:01\u001b[0mm\n",
            "\u001b[?25hCollecting onnxruntime-gpu==1.13.1\n",
            "  Downloading onnxruntime_gpu-1.13.1-cp38-cp38-manylinux_2_17_x86_64.manylinux2014_x86_64.whl (115.3 MB)\n",
            "\u001b[2K     \u001b[90m━━━━━━━━━━━━━━━━━━━━━━━━━━━━━━━━━━━━━━━\u001b[0m \u001b[32m115.3/115.3 MB\u001b[0m \u001b[31m8.5 MB/s\u001b[0m eta \u001b[36m0:00:00\u001b[0m00:01\u001b[0m00:01\u001b[0m\n",
            "\u001b[?25hCollecting opencv-python==4.6.0.66\n",
            "  Using cached opencv_python-4.6.0.66-cp36-abi3-manylinux_2_17_x86_64.manylinux2014_x86_64.whl (60.9 MB)\n",
            "Collecting Pillow==9.3.0\n",
            "  Downloading Pillow-9.3.0-cp38-cp38-manylinux_2_17_x86_64.manylinux2014_x86_64.whl (3.2 MB)\n",
            "\u001b[2K     \u001b[90m━━━━━━━━━━━━━━━━━━━━━━━━━━━━━━━━━━━━━━━━\u001b[0m \u001b[32m3.2/3.2 MB\u001b[0m \u001b[31m21.6 MB/s\u001b[0m eta \u001b[36m0:00:00\u001b[0m:00:01\u001b[0m\n",
            "\u001b[?25hCollecting PyOpenGL==3.1.0\n",
            "  Using cached PyOpenGL-3.1.0.zip (2.2 MB)\n",
            "  Preparing metadata (setup.py) ... \u001b[?25ldone\n",
            "\u001b[?25hCollecting pyrender==0.1.45\n",
            "  Using cached pyrender-0.1.45-py3-none-any.whl (1.2 MB)\n",
            "Collecting python-dotenv==0.21.0\n",
            "  Using cached python_dotenv-0.21.0-py3-none-any.whl (18 kB)\n",
            "Collecting scipy==1.9.3\n",
            "  Downloading scipy-1.9.3-cp38-cp38-manylinux_2_17_x86_64.manylinux2014_x86_64.whl (33.8 MB)\n",
            "\u001b[2K     \u001b[90m━━━━━━━━━━━━━━━━━━━━━━━━━━━━━━━━━━━━━━━━\u001b[0m \u001b[32m33.8/33.8 MB\u001b[0m \u001b[31m43.9 MB/s\u001b[0m eta \u001b[36m0:00:00\u001b[0m00:01\u001b[0m00:01\u001b[0m\n",
            "\u001b[?25hCollecting Shapely==1.8.5.post1\n",
            "  Downloading Shapely-1.8.5.post1-cp38-cp38-manylinux_2_12_x86_64.manylinux2010_x86_64.whl (2.1 MB)\n",
            "\u001b[2K     \u001b[90m━━━━━━━━━━━━━━━━━━━━━━━━━━━━━━━━━━━━━━━━\u001b[0m \u001b[32m2.1/2.1 MB\u001b[0m \u001b[31m14.8 MB/s\u001b[0m eta \u001b[36m0:00:00\u001b[0m00:01\u001b[0m\n",
            "\u001b[?25hCollecting wandb==0.13.5\n",
            "  Using cached wandb-0.13.5-py2.py3-none-any.whl (1.9 MB)\n",
            "Collecting tqdm==4.64.1\n",
            "  Using cached tqdm-4.64.1-py2.py3-none-any.whl (78 kB)\n",
            "Collecting kiwisolver>=1.0.1\n",
            "  Downloading kiwisolver-1.4.5-cp38-cp38-manylinux_2_5_x86_64.manylinux1_x86_64.whl (1.2 MB)\n",
            "\u001b[2K     \u001b[90m━━━━━━━━━━━━━━━━━━━━━━━━━━━━━━━━━━━━━━━━\u001b[0m \u001b[32m1.2/1.2 MB\u001b[0m \u001b[31m13.8 MB/s\u001b[0m eta \u001b[36m0:00:00\u001b[0m:00:01\u001b[0m\n",
            "\u001b[?25hCollecting cycler>=0.10\n",
            "  Using cached cycler-0.12.1-py3-none-any.whl (8.3 kB)\n",
            "Collecting python-dateutil>=2.7\n",
            "  Using cached python_dateutil-2.9.0.post0-py2.py3-none-any.whl (229 kB)\n",
            "Collecting packaging>=20.0\n",
            "  Using cached packaging-24.0-py3-none-any.whl (53 kB)\n",
            "Collecting contourpy>=1.0.1\n",
            "  Downloading contourpy-1.1.1-cp38-cp38-manylinux_2_17_x86_64.manylinux2014_x86_64.whl (301 kB)\n",
            "\u001b[2K     \u001b[90m━━━━━━━━━━━━━━━━━━━━━━━━━━━━━━━━━━━━━━━\u001b[0m \u001b[32m301.1/301.1 KB\u001b[0m \u001b[31m6.9 MB/s\u001b[0m eta \u001b[36m0:00:00\u001b[0m00:01\u001b[0m\n",
            "\u001b[?25hCollecting fonttools>=4.22.0\n",
            "  Downloading fonttools-4.51.0-cp38-cp38-manylinux_2_17_x86_64.manylinux2014_x86_64.whl (4.7 MB)\n",
            "\u001b[2K     \u001b[90m━━━━━━━━━━━━━━━━━━━━━━━━━━━━━━━━━━━━━━━━\u001b[0m \u001b[32m4.7/4.7 MB\u001b[0m \u001b[31m53.4 MB/s\u001b[0m eta \u001b[36m0:00:00\u001b[0m:00:01\u001b[0m00:01\u001b[0m\n",
            "\u001b[?25hCollecting pyparsing>=2.2.1\n",
            "  Using cached pyparsing-3.1.2-py3-none-any.whl (103 kB)\n",
            "Collecting coloredlogs\n",
            "  Using cached coloredlogs-15.0.1-py2.py3-none-any.whl (46 kB)\n",
            "Collecting sympy\n",
            "  Using cached sympy-1.12-py3-none-any.whl (5.7 MB)\n",
            "Collecting flatbuffers\n",
            "  Using cached flatbuffers-24.3.25-py2.py3-none-any.whl (26 kB)\n",
            "Collecting protobuf\n",
            "  Using cached protobuf-5.26.1-cp37-abi3-manylinux2014_x86_64.whl (302 kB)\n",
            "Collecting freetype-py\n",
            "  Using cached freetype_py-2.4.0-py3-none-manylinux_2_5_x86_64.manylinux1_x86_64.manylinux_2_12_x86_64.manylinux2010_x86_64.whl (1.0 MB)\n",
            "Collecting trimesh\n",
            "  Using cached trimesh-4.3.2-py3-none-any.whl (693 kB)\n",
            "Collecting networkx\n",
            "  Downloading networkx-3.1-py3-none-any.whl (2.1 MB)\n",
            "\u001b[2K     \u001b[90m━━━━━━━━━━━━━━━━━━━━━━━━━━━━━━━━━━━━━━━━\u001b[0m \u001b[32m2.1/2.1 MB\u001b[0m \u001b[31m13.1 MB/s\u001b[0m eta \u001b[36m0:00:00\u001b[0m:00:01\u001b[0m\n",
            "\u001b[?25hCollecting six\n",
            "  Downloading six-1.16.0-py2.py3-none-any.whl (11 kB)\n",
            "Collecting pyglet>=1.4.10\n",
            "  Using cached pyglet-2.0.15-py3-none-any.whl (884 kB)\n",
            "Collecting docker-pycreds>=0.4.0\n",
            "  Using cached docker_pycreds-0.4.0-py2.py3-none-any.whl (9.0 kB)\n",
            "Collecting Click!=8.0.0,>=7.0\n",
            "  Using cached click-8.1.7-py3-none-any.whl (97 kB)\n",
            "Collecting shortuuid>=0.5.0\n",
            "  Using cached shortuuid-1.0.13-py3-none-any.whl (10 kB)\n",
            "Collecting requests<3,>=2.0.0\n",
            "  Downloading requests-2.31.0-py3-none-any.whl (62 kB)\n",
            "\u001b[2K     \u001b[90m━━━━━━━━━━━━━━━━━━━━━━━━━━━━━━━━━━━━━━━━\u001b[0m \u001b[32m62.6/62.6 KB\u001b[0m \u001b[31m9.5 MB/s\u001b[0m eta \u001b[36m0:00:00\u001b[0m\n",
            "\u001b[?25hRequirement already satisfied: PyYAML in /gpfs/space/software/cluster_software/spack/linux-centos7-x86_64/gcc-9.2.0/py-pyyaml-6.0-auxxuxqmhmwbv42ewdrfj3vr2tv4qtoa/lib/python3.9/site-packages (from wandb==0.13.5->-r requirements.txt (line 16)) (6.0)\n",
            "Collecting psutil>=5.0.0\n",
            "  Using cached psutil-5.9.8-cp36-abi3-manylinux_2_12_x86_64.manylinux2010_x86_64.manylinux_2_17_x86_64.manylinux2014_x86_64.whl (288 kB)\n",
            "Collecting pathtools\n",
            "  Using cached pathtools-0.1.2.tar.gz (11 kB)\n",
            "  Preparing metadata (setup.py) ... \u001b[?25ldone\n",
            "\u001b[?25hCollecting GitPython>=1.0.0\n",
            "  Using cached GitPython-3.1.43-py3-none-any.whl (207 kB)\n",
            "Requirement already satisfied: setuptools in /gpfs/space/software/cluster_software/spack/linux-centos7-x86_64/gcc-9.2.0/python-3.8.13-eqjpp6nun7lqidyzqgdzj5zqif4jwn4a/lib/python3.8/site-packages (from wandb==0.13.5->-r requirements.txt (line 16)) (56.0.0)\n",
            "Collecting sentry-sdk>=1.0.0\n",
            "  Using cached sentry_sdk-2.0.1-py2.py3-none-any.whl (266 kB)\n",
            "Collecting protobuf\n",
            "  Using cached protobuf-4.25.3-cp37-abi3-manylinux2014_x86_64.whl (294 kB)\n",
            "Collecting setproctitle\n",
            "  Downloading setproctitle-1.3.3-cp38-cp38-manylinux_2_5_x86_64.manylinux1_x86_64.manylinux_2_17_x86_64.manylinux2014_x86_64.whl (31 kB)\n",
            "Collecting promise<3,>=2.0\n",
            "  Using cached promise-2.3.tar.gz (19 kB)\n",
            "  Preparing metadata (setup.py) ... \u001b[?25ldone\n",
            "\u001b[?25hCollecting gitdb<5,>=4.0.1\n",
            "  Using cached gitdb-4.0.11-py3-none-any.whl (62 kB)\n",
            "Collecting idna<4,>=2.5\n",
            "  Downloading idna-3.7-py3-none-any.whl (66 kB)\n",
            "\u001b[2K     \u001b[90m━━━━━━━━━━━━━━━━━━━━━━━━━━━━━━━━━━━━━━━━\u001b[0m \u001b[32m66.8/66.8 KB\u001b[0m \u001b[31m9.6 MB/s\u001b[0m eta \u001b[36m0:00:00\u001b[0m\n",
            "\u001b[?25hCollecting urllib3<3,>=1.21.1\n",
            "  Downloading urllib3-2.2.1-py3-none-any.whl (121 kB)\n",
            "\u001b[2K     \u001b[90m━━━━━━━━━━━━━━━━━━━━━━━━━━━━━━━━━━━━━━\u001b[0m \u001b[32m121.1/121.1 KB\u001b[0m \u001b[31m17.1 MB/s\u001b[0m eta \u001b[36m0:00:00\u001b[0m\n",
            "\u001b[?25hCollecting charset-normalizer<4,>=2\n",
            "  Downloading charset_normalizer-3.3.2-cp38-cp38-manylinux_2_17_x86_64.manylinux2014_x86_64.whl (141 kB)\n",
            "\u001b[2K     \u001b[90m━━━━━━━━━━━━━━━━━━━━━━━━━━━━━━━━━━━━━━\u001b[0m \u001b[32m141.1/141.1 KB\u001b[0m \u001b[31m17.6 MB/s\u001b[0m eta \u001b[36m0:00:00\u001b[0m\n",
            "\u001b[?25hCollecting certifi>=2017.4.17\n",
            "  Downloading certifi-2024.2.2-py3-none-any.whl (163 kB)\n",
            "\u001b[2K     \u001b[90m━━━━━━━━━━━━━━━━━━━━━━━━━━━━━━━━━━━━━━━\u001b[0m \u001b[32m163.8/163.8 KB\u001b[0m \u001b[31m8.6 MB/s\u001b[0m eta \u001b[36m0:00:00\u001b[0m\n",
            "\u001b[?25hCollecting humanfriendly>=9.1\n",
            "  Using cached humanfriendly-10.0-py2.py3-none-any.whl (86 kB)\n",
            "Collecting mpmath>=0.19\n",
            "  Using cached mpmath-1.3.0-py3-none-any.whl (536 kB)\n",
            "Collecting smmap<6,>=3.0.1\n",
            "  Using cached smmap-5.0.1-py3-none-any.whl (24 kB)\n",
            "Using legacy 'setup.py install' for ffio, since package 'wheel' is not installed.\n",
            "Using legacy 'setup.py install' for PyOpenGL, since package 'wheel' is not installed.\n",
            "Using legacy 'setup.py install' for promise, since package 'wheel' is not installed.\n",
            "Using legacy 'setup.py install' for pathtools, since package 'wheel' is not installed.\n",
            "Installing collected packages: PyOpenGL, pathtools, mpmath, flatbuffers, urllib3, tqdm, sympy, smmap, six, shortuuid, Shapely, setproctitle, python-dotenv, pyparsing, pyglet, psutil, protobuf, Pillow, packaging, numpy, networkx, kiwisolver, idna, humanfriendly, freetype-py, fonttools, ffio, cycler, Click, charset-normalizer, certifi, trimesh, sentry-sdk, scipy, requests, python-dateutil, promise, opencv-python, imageio, h5py, gitdb, docker-pycreds, contourpy, coloredlogs, pyrender, onnxruntime-gpu, onnxruntime, matplotlib, GitPython, wandb, descartes\n",
            "  Running setup.py install for PyOpenGL ... \u001b[?25ldone\n",
            "\u001b[?25h  Running setup.py install for pathtools ... \u001b[?25ldone\n",
            "\u001b[33m  WARNING: The script tqdm is installed in '/gpfs/space/home/raineich/.local/bin' which is not on PATH.\n",
            "  Consider adding this directory to PATH or, if you prefer to suppress this warning, use --no-warn-script-location.\u001b[0m\u001b[33m\n",
            "\u001b[0m\u001b[33m  WARNING: The script isympy is installed in '/gpfs/space/home/raineich/.local/bin' which is not on PATH.\n",
            "  Consider adding this directory to PATH or, if you prefer to suppress this warning, use --no-warn-script-location.\u001b[0m\u001b[33m\n",
            "\u001b[0m\u001b[33m  WARNING: The script shortuuid is installed in '/gpfs/space/home/raineich/.local/bin' which is not on PATH.\n",
            "  Consider adding this directory to PATH or, if you prefer to suppress this warning, use --no-warn-script-location.\u001b[0m\u001b[33m\n",
            "\u001b[0m\u001b[?25h  Attempting uninstall: python-dotenv\n",
            "    Found existing installation: python-dotenv 1.0.1\n",
            "    Uninstalling python-dotenv-1.0.1:\n",
            "      Successfully uninstalled python-dotenv-1.0.1\n",
            "\u001b[33m  WARNING: The script dotenv is installed in '/gpfs/space/home/raineich/.local/bin' which is not on PATH.\n",
            "  Consider adding this directory to PATH or, if you prefer to suppress this warning, use --no-warn-script-location.\u001b[0m\u001b[33m\n",
            "\u001b[0m\u001b[33m  WARNING: The scripts f2py, f2py3 and f2py3.8 are installed in '/gpfs/space/home/raineich/.local/bin' which is not on PATH.\n",
            "  Consider adding this directory to PATH or, if you prefer to suppress this warning, use --no-warn-script-location.\u001b[0m\u001b[33m\n",
            "\u001b[0m\u001b[33m  WARNING: The script humanfriendly is installed in '/gpfs/space/home/raineich/.local/bin' which is not on PATH.\n",
            "  Consider adding this directory to PATH or, if you prefer to suppress this warning, use --no-warn-script-location.\u001b[0m\u001b[33m\n",
            "\u001b[0m\u001b[33m  WARNING: The scripts fonttools, pyftmerge, pyftsubset and ttx are installed in '/gpfs/space/home/raineich/.local/bin' which is not on PATH.\n",
            "  Consider adding this directory to PATH or, if you prefer to suppress this warning, use --no-warn-script-location.\u001b[0m\u001b[33m\n",
            "\u001b[0m  Running setup.py install for ffio ... \u001b[?25ldone\n",
            "\u001b[33m  WARNING: The script normalizer is installed in '/gpfs/space/home/raineich/.local/bin' which is not on PATH.\n",
            "  Consider adding this directory to PATH or, if you prefer to suppress this warning, use --no-warn-script-location.\u001b[0m\u001b[33m\n",
            "\u001b[0m\u001b[?25h  Running setup.py install for promise ... \u001b[?25ldone\n",
            "\u001b[33m  WARNING: The scripts imageio_download_bin and imageio_remove_bin are installed in '/gpfs/space/home/raineich/.local/bin' which is not on PATH.\n",
            "  Consider adding this directory to PATH or, if you prefer to suppress this warning, use --no-warn-script-location.\u001b[0m\u001b[33m\n",
            "\u001b[0m\u001b[33m  WARNING: The script coloredlogs is installed in '/gpfs/space/home/raineich/.local/bin' which is not on PATH.\n",
            "  Consider adding this directory to PATH or, if you prefer to suppress this warning, use --no-warn-script-location.\u001b[0m\u001b[33m\n",
            "\u001b[0m\u001b[33m  WARNING: The script onnxruntime_test is installed in '/gpfs/space/home/raineich/.local/bin' which is not on PATH.\n",
            "  Consider adding this directory to PATH or, if you prefer to suppress this warning, use --no-warn-script-location.\u001b[0m\u001b[33m\n",
            "\u001b[0m\u001b[33m  WARNING: The script onnxruntime_test is installed in '/gpfs/space/home/raineich/.local/bin' which is not on PATH.\n",
            "  Consider adding this directory to PATH or, if you prefer to suppress this warning, use --no-warn-script-location.\u001b[0m\u001b[33m\n",
            "\u001b[0m\u001b[33m  WARNING: The scripts wandb and wb are installed in '/gpfs/space/home/raineich/.local/bin' which is not on PATH.\n",
            "  Consider adding this directory to PATH or, if you prefer to suppress this warning, use --no-warn-script-location.\u001b[0m\u001b[33m\n",
            "\u001b[0m\u001b[?25hSuccessfully installed Click-8.1.7 GitPython-3.1.43 Pillow-9.3.0 PyOpenGL-3.1.0 Shapely-1.8.5.post1 certifi-2024.2.2 charset-normalizer-3.3.2 coloredlogs-15.0.1 contourpy-1.1.1 cycler-0.12.1 descartes-1.1.0 docker-pycreds-0.4.0 ffio-0.1.0 flatbuffers-24.3.25 fonttools-4.51.0 freetype-py-2.4.0 gitdb-4.0.11 h5py-3.7.0 humanfriendly-10.0 idna-3.7 imageio-2.22.4 kiwisolver-1.4.5 matplotlib-3.6.2 mpmath-1.3.0 networkx-3.1 numpy-1.23.4 onnxruntime-1.13.1 onnxruntime-gpu-1.13.1 opencv-python-4.6.0.66 packaging-24.0 pathtools-0.1.2 promise-2.3 protobuf-4.25.3 psutil-5.9.8 pyglet-2.0.15 pyparsing-3.1.2 pyrender-0.1.45 python-dateutil-2.9.0.post0 python-dotenv-0.21.0 requests-2.31.0 scipy-1.9.3 sentry-sdk-2.0.1 setproctitle-1.3.3 shortuuid-1.0.13 six-1.16.0 smmap-5.0.1 sympy-1.12 tqdm-4.64.1 trimesh-4.3.2 urllib3-2.2.1 wandb-0.13.5\n",
            "\u001b[33mWARNING: You are using pip version 22.0.4; however, version 24.0 is available.\n",
            "You should consider upgrading via the '/gpfs/space/software/cluster_software/spack/linux-centos7-x86_64/gcc-9.2.0/python-3.8.13-eqjpp6nun7lqidyzqgdzj5zqif4jwn4a/bin/python -m pip install --upgrade pip' command.\u001b[0m\u001b[33m\n",
            "\u001b[0m"
          ]
        }
      ],
      "source": [
        "!pip install -r requirements.txt"
      ]
    },
    {
      "cell_type": "code",
      "execution_count": null,
      "id": "fa0c2dd1-6bdd-47dd-a185-265f69cb56eb",
      "metadata": {
        "id": "fa0c2dd1-6bdd-47dd-a185-265f69cb56eb",
        "outputId": "0190593d-4267-402f-93a4-7da56380f12f",
        "tags": []
      },
      "outputs": [
        {
          "name": "stdout",
          "output_type": "stream",
          "text": [
            "Defaulting to user installation because normal site-packages is not writeable\n",
            "Collecting git+https://github.com/UT-ADL/vista.git\n",
            "  Cloning https://github.com/UT-ADL/vista.git to /tmp/pip-req-build-xagbvtpk\n",
            "  Running command git clone --quiet https://github.com/UT-ADL/vista.git /tmp/pip-req-build-xagbvtpk\n",
            "  Resolved https://github.com/UT-ADL/vista.git to commit e9761766116eb5dbdaedf7e6990e6a21dcc19b8a\n",
            "  Preparing metadata (setup.py) ... \u001b[?25ldone\n",
            "\u001b[?25hUsing legacy 'setup.py install' for vista, since package 'wheel' is not installed.\n",
            "Installing collected packages: vista\n",
            "  Running setup.py install for vista ... \u001b[?25ldone\n",
            "\u001b[?25hSuccessfully installed vista-2.0.6\n",
            "\u001b[33mWARNING: You are using pip version 22.0.4; however, version 24.0 is available.\n",
            "You should consider upgrading via the '/gpfs/space/software/cluster_software/spack/linux-centos7-x86_64/gcc-9.2.0/python-3.8.13-eqjpp6nun7lqidyzqgdzj5zqif4jwn4a/bin/python -m pip install --upgrade pip' command.\u001b[0m\u001b[33m\n",
            "\u001b[0m"
          ]
        }
      ],
      "source": [
        "!pip install git+https://github.com/UT-ADL/vista.git"
      ]
    },
    {
      "cell_type": "code",
      "execution_count": null,
      "id": "4dcf616b-123c-4c13-bb86-9c09959e6200",
      "metadata": {
        "id": "4dcf616b-123c-4c13-bb86-9c09959e6200",
        "outputId": "2229c709-bac1-4d7d-ee13-0b615b4f2c76",
        "tags": []
      },
      "outputs": [
        {
          "name": "stdout",
          "output_type": "stream",
          "text": [
            "Defaulting to user installation because normal site-packages is not writeable\n",
            "Collecting torch\n",
            "  Downloading torch-2.3.0-cp38-cp38-manylinux1_x86_64.whl (779.1 MB)\n",
            "\u001b[2K     \u001b[90m━━━━━━━━━━━━━━━━━━━━━━━━━━━━━━━━━━━━━━━\u001b[0m \u001b[32m779.1/779.1 MB\u001b[0m \u001b[31m6.4 MB/s\u001b[0m eta \u001b[36m0:00:00\u001b[0m00:01\u001b[0m00:01\u001b[0m\n",
            "\u001b[?25hRequirement already satisfied: sympy in /gpfs/space/home/raineich/.local/lib/python3.8/site-packages (from torch) (1.12)\n",
            "Collecting nvidia-cufft-cu12==11.0.2.54\n",
            "  Using cached nvidia_cufft_cu12-11.0.2.54-py3-none-manylinux1_x86_64.whl (121.6 MB)\n",
            "Collecting nvidia-cuda-nvrtc-cu12==12.1.105\n",
            "  Using cached nvidia_cuda_nvrtc_cu12-12.1.105-py3-none-manylinux1_x86_64.whl (23.7 MB)\n",
            "Collecting filelock\n",
            "  Downloading filelock-3.14.0-py3-none-any.whl (12 kB)\n",
            "Collecting triton==2.3.0\n",
            "  Downloading triton-2.3.0-cp38-cp38-manylinux_2_17_x86_64.manylinux2014_x86_64.whl (168.0 MB)\n",
            "\u001b[2K     \u001b[90m━━━━━━━━━━━━━━━━━━━━━━━━━━━━━━━━━━━━━━\u001b[0m \u001b[32m168.0/168.0 MB\u001b[0m \u001b[31m20.5 MB/s\u001b[0m eta \u001b[36m0:00:00\u001b[0m00:01\u001b[0m00:01\u001b[0m\n",
            "\u001b[?25hCollecting jinja2\n",
            "  Downloading Jinja2-3.1.3-py3-none-any.whl (133 kB)\n",
            "\u001b[2K     \u001b[90m━━━━━━━━━━━━━━━━━━━━━━━━━━━━━━━━━━━━━━\u001b[0m \u001b[32m133.2/133.2 KB\u001b[0m \u001b[31m16.5 MB/s\u001b[0m eta \u001b[36m0:00:00\u001b[0m\n",
            "\u001b[?25hCollecting nvidia-cuda-runtime-cu12==12.1.105\n",
            "  Using cached nvidia_cuda_runtime_cu12-12.1.105-py3-none-manylinux1_x86_64.whl (823 kB)\n",
            "Collecting nvidia-cusparse-cu12==12.1.0.106\n",
            "  Using cached nvidia_cusparse_cu12-12.1.0.106-py3-none-manylinux1_x86_64.whl (196.0 MB)\n",
            "Collecting nvidia-curand-cu12==10.3.2.106\n",
            "  Using cached nvidia_curand_cu12-10.3.2.106-py3-none-manylinux1_x86_64.whl (56.5 MB)\n",
            "Requirement already satisfied: networkx in /gpfs/space/home/raineich/.local/lib/python3.8/site-packages (from torch) (3.1)\n",
            "Collecting nvidia-cudnn-cu12==8.9.2.26\n",
            "  Using cached nvidia_cudnn_cu12-8.9.2.26-py3-none-manylinux1_x86_64.whl (731.7 MB)\n",
            "Collecting nvidia-cusolver-cu12==11.4.5.107\n",
            "  Using cached nvidia_cusolver_cu12-11.4.5.107-py3-none-manylinux1_x86_64.whl (124.2 MB)\n",
            "Collecting nvidia-cublas-cu12==12.1.3.1\n",
            "  Using cached nvidia_cublas_cu12-12.1.3.1-py3-none-manylinux1_x86_64.whl (410.6 MB)\n",
            "Collecting nvidia-nccl-cu12==2.20.5\n",
            "  Using cached nvidia_nccl_cu12-2.20.5-py3-none-manylinux2014_x86_64.whl (176.2 MB)\n",
            "Collecting nvidia-nvtx-cu12==12.1.105\n",
            "  Using cached nvidia_nvtx_cu12-12.1.105-py3-none-manylinux1_x86_64.whl (99 kB)\n",
            "Collecting nvidia-cuda-cupti-cu12==12.1.105\n",
            "  Using cached nvidia_cuda_cupti_cu12-12.1.105-py3-none-manylinux1_x86_64.whl (14.1 MB)\n",
            "Collecting fsspec\n",
            "  Using cached fsspec-2024.3.1-py3-none-any.whl (171 kB)\n",
            "Collecting typing-extensions>=4.8.0\n",
            "  Using cached typing_extensions-4.11.0-py3-none-any.whl (34 kB)\n",
            "Collecting nvidia-nvjitlink-cu12\n",
            "  Using cached nvidia_nvjitlink_cu12-12.4.127-py3-none-manylinux2014_x86_64.whl (21.1 MB)\n",
            "Collecting MarkupSafe>=2.0\n",
            "  Downloading MarkupSafe-2.1.5-cp38-cp38-manylinux_2_17_x86_64.manylinux2014_x86_64.whl (26 kB)\n",
            "Requirement already satisfied: mpmath>=0.19 in /gpfs/space/home/raineich/.local/lib/python3.8/site-packages (from sympy->torch) (1.3.0)\n",
            "Installing collected packages: typing-extensions, nvidia-nvtx-cu12, nvidia-nvjitlink-cu12, nvidia-nccl-cu12, nvidia-curand-cu12, nvidia-cufft-cu12, nvidia-cuda-runtime-cu12, nvidia-cuda-nvrtc-cu12, nvidia-cuda-cupti-cu12, nvidia-cublas-cu12, MarkupSafe, fsspec, filelock, triton, nvidia-cusparse-cu12, nvidia-cudnn-cu12, jinja2, nvidia-cusolver-cu12, torch\n",
            "\u001b[33m  WARNING: The scripts convert-caffe2-to-onnx, convert-onnx-to-caffe2 and torchrun are installed in '/gpfs/space/home/raineich/.local/bin' which is not on PATH.\n",
            "  Consider adding this directory to PATH or, if you prefer to suppress this warning, use --no-warn-script-location.\u001b[0m\u001b[33m\n",
            "\u001b[0mSuccessfully installed MarkupSafe-2.1.5 filelock-3.14.0 fsspec-2024.3.1 jinja2-3.1.3 nvidia-cublas-cu12-12.1.3.1 nvidia-cuda-cupti-cu12-12.1.105 nvidia-cuda-nvrtc-cu12-12.1.105 nvidia-cuda-runtime-cu12-12.1.105 nvidia-cudnn-cu12-8.9.2.26 nvidia-cufft-cu12-11.0.2.54 nvidia-curand-cu12-10.3.2.106 nvidia-cusolver-cu12-11.4.5.107 nvidia-cusparse-cu12-12.1.0.106 nvidia-nccl-cu12-2.20.5 nvidia-nvjitlink-cu12-12.4.127 nvidia-nvtx-cu12-12.1.105 torch-2.3.0 triton-2.3.0 typing-extensions-4.11.0\n",
            "\u001b[33mWARNING: You are using pip version 22.0.4; however, version 24.0 is available.\n",
            "You should consider upgrading via the '/gpfs/space/software/cluster_software/spack/linux-centos7-x86_64/gcc-9.2.0/python-3.8.13-eqjpp6nun7lqidyzqgdzj5zqif4jwn4a/bin/python -m pip install --upgrade pip' command.\u001b[0m\u001b[33m\n",
            "\u001b[0m"
          ]
        }
      ],
      "source": [
        "!pip install torch"
      ]
    },
    {
      "cell_type": "code",
      "execution_count": null,
      "id": "da2e35b4-04ec-4613-b475-e9512f0b2a2a",
      "metadata": {
        "id": "da2e35b4-04ec-4613-b475-e9512f0b2a2a",
        "outputId": "8bd73250-3040-4daf-82b0-cfcdbde266c8",
        "tags": []
      },
      "outputs": [
        {
          "name": "stdout",
          "output_type": "stream",
          "text": [
            "Defaulting to user installation because normal site-packages is not writeable\n",
            "Collecting torchvision\n",
            "  Downloading torchvision-0.18.0-cp38-cp38-manylinux1_x86_64.whl (7.0 MB)\n",
            "\u001b[2K     \u001b[90m━━━━━━━━━━━━━━━━━━━━━━━━━━━━━━━━━━━━━━━━\u001b[0m \u001b[32m7.0/7.0 MB\u001b[0m \u001b[31m8.4 MB/s\u001b[0m eta \u001b[36m0:00:00\u001b[0m00:01\u001b[0m00:01\u001b[0mm\n",
            "\u001b[?25hRequirement already satisfied: numpy in /gpfs/space/home/raineich/.local/lib/python3.8/site-packages (from torchvision) (1.23.4)\n",
            "Requirement already satisfied: torch==2.3.0 in /gpfs/space/home/raineich/.local/lib/python3.8/site-packages (from torchvision) (2.3.0)\n",
            "Requirement already satisfied: pillow!=8.3.*,>=5.3.0 in /gpfs/space/home/raineich/.local/lib/python3.8/site-packages (from torchvision) (9.3.0)\n",
            "Requirement already satisfied: fsspec in /gpfs/space/home/raineich/.local/lib/python3.8/site-packages (from torch==2.3.0->torchvision) (2024.3.1)\n",
            "Requirement already satisfied: nvidia-cusparse-cu12==12.1.0.106 in /gpfs/space/home/raineich/.local/lib/python3.8/site-packages (from torch==2.3.0->torchvision) (12.1.0.106)\n",
            "Requirement already satisfied: nvidia-cufft-cu12==11.0.2.54 in /gpfs/space/home/raineich/.local/lib/python3.8/site-packages (from torch==2.3.0->torchvision) (11.0.2.54)\n",
            "Requirement already satisfied: triton==2.3.0 in /gpfs/space/home/raineich/.local/lib/python3.8/site-packages (from torch==2.3.0->torchvision) (2.3.0)\n",
            "Requirement already satisfied: nvidia-cusolver-cu12==11.4.5.107 in /gpfs/space/home/raineich/.local/lib/python3.8/site-packages (from torch==2.3.0->torchvision) (11.4.5.107)\n",
            "Requirement already satisfied: nvidia-cuda-nvrtc-cu12==12.1.105 in /gpfs/space/home/raineich/.local/lib/python3.8/site-packages (from torch==2.3.0->torchvision) (12.1.105)\n",
            "Requirement already satisfied: nvidia-cuda-cupti-cu12==12.1.105 in /gpfs/space/home/raineich/.local/lib/python3.8/site-packages (from torch==2.3.0->torchvision) (12.1.105)\n",
            "Requirement already satisfied: nvidia-cuda-runtime-cu12==12.1.105 in /gpfs/space/home/raineich/.local/lib/python3.8/site-packages (from torch==2.3.0->torchvision) (12.1.105)\n",
            "Requirement already satisfied: nvidia-nccl-cu12==2.20.5 in /gpfs/space/home/raineich/.local/lib/python3.8/site-packages (from torch==2.3.0->torchvision) (2.20.5)\n",
            "Requirement already satisfied: sympy in /gpfs/space/home/raineich/.local/lib/python3.8/site-packages (from torch==2.3.0->torchvision) (1.12)\n",
            "Requirement already satisfied: nvidia-cudnn-cu12==8.9.2.26 in /gpfs/space/home/raineich/.local/lib/python3.8/site-packages (from torch==2.3.0->torchvision) (8.9.2.26)\n",
            "Requirement already satisfied: filelock in /gpfs/space/home/raineich/.local/lib/python3.8/site-packages (from torch==2.3.0->torchvision) (3.14.0)\n",
            "Requirement already satisfied: nvidia-cublas-cu12==12.1.3.1 in /gpfs/space/home/raineich/.local/lib/python3.8/site-packages (from torch==2.3.0->torchvision) (12.1.3.1)\n",
            "Requirement already satisfied: typing-extensions>=4.8.0 in /gpfs/space/home/raineich/.local/lib/python3.8/site-packages (from torch==2.3.0->torchvision) (4.11.0)\n",
            "Requirement already satisfied: networkx in /gpfs/space/home/raineich/.local/lib/python3.8/site-packages (from torch==2.3.0->torchvision) (3.1)\n",
            "Requirement already satisfied: nvidia-nvtx-cu12==12.1.105 in /gpfs/space/home/raineich/.local/lib/python3.8/site-packages (from torch==2.3.0->torchvision) (12.1.105)\n",
            "Requirement already satisfied: jinja2 in /gpfs/space/home/raineich/.local/lib/python3.8/site-packages (from torch==2.3.0->torchvision) (3.1.3)\n",
            "Requirement already satisfied: nvidia-curand-cu12==10.3.2.106 in /gpfs/space/home/raineich/.local/lib/python3.8/site-packages (from torch==2.3.0->torchvision) (10.3.2.106)\n",
            "Requirement already satisfied: nvidia-nvjitlink-cu12 in /gpfs/space/home/raineich/.local/lib/python3.8/site-packages (from nvidia-cusolver-cu12==11.4.5.107->torch==2.3.0->torchvision) (12.4.127)\n",
            "Requirement already satisfied: MarkupSafe>=2.0 in /gpfs/space/home/raineich/.local/lib/python3.8/site-packages (from jinja2->torch==2.3.0->torchvision) (2.1.5)\n",
            "Requirement already satisfied: mpmath>=0.19 in /gpfs/space/home/raineich/.local/lib/python3.8/site-packages (from sympy->torch==2.3.0->torchvision) (1.3.0)\n",
            "Installing collected packages: torchvision\n",
            "Successfully installed torchvision-0.18.0\n",
            "\u001b[33mWARNING: You are using pip version 22.0.4; however, version 24.0 is available.\n",
            "You should consider upgrading via the '/gpfs/space/software/cluster_software/spack/linux-centos7-x86_64/gcc-9.2.0/python-3.8.13-eqjpp6nun7lqidyzqgdzj5zqif4jwn4a/bin/python -m pip install --upgrade pip' command.\u001b[0m\u001b[33m\n",
            "\u001b[0m"
          ]
        }
      ],
      "source": [
        "!pip install torchvision"
      ]
    },
    {
      "cell_type": "code",
      "execution_count": null,
      "id": "2346a233-5009-4f73-8cdc-3aac8c925723",
      "metadata": {
        "id": "2346a233-5009-4f73-8cdc-3aac8c925723",
        "outputId": "3f9557b8-a0fb-4238-e708-bd689c44665c",
        "tags": []
      },
      "outputs": [
        {
          "name": "stdout",
          "output_type": "stream",
          "text": [
            "Defaulting to user installation because normal site-packages is not writeable\n",
            "Collecting matplotlib_inline\n",
            "  Using cached matplotlib_inline-0.1.7-py3-none-any.whl (9.9 kB)\n",
            "Collecting traitlets\n",
            "  Using cached traitlets-5.14.3-py3-none-any.whl (85 kB)\n",
            "Installing collected packages: traitlets, matplotlib_inline\n",
            "Successfully installed matplotlib_inline-0.1.7 traitlets-5.14.3\n",
            "\u001b[33mWARNING: You are using pip version 22.0.4; however, version 24.0 is available.\n",
            "You should consider upgrading via the '/gpfs/space/software/cluster_software/spack/linux-centos7-x86_64/gcc-9.2.0/python-3.8.13-eqjpp6nun7lqidyzqgdzj5zqif4jwn4a/bin/python -m pip install --upgrade pip' command.\u001b[0m\u001b[33m\n",
            "\u001b[0m"
          ]
        }
      ],
      "source": [
        "!pip install matplotlib_inline"
      ]
    },
    {
      "cell_type": "code",
      "execution_count": null,
      "id": "2396915b-4d6a-4599-91df-714913514f90",
      "metadata": {
        "id": "2396915b-4d6a-4599-91df-714913514f90",
        "outputId": "49443143-237f-4b42-a17a-7de53ef93839",
        "tags": []
      },
      "outputs": [
        {
          "name": "stdout",
          "output_type": "stream",
          "text": [
            "Defaulting to user installation because normal site-packages is not writeable\n",
            "Collecting IPython\n",
            "  Downloading ipython-8.12.3-py3-none-any.whl (798 kB)\n",
            "\u001b[2K     \u001b[90m━━━━━━━━━━━━━━━━━━━━━━━━━━━━━━━━━━━━━━━\u001b[0m \u001b[32m798.3/798.3 KB\u001b[0m \u001b[31m6.8 MB/s\u001b[0m eta \u001b[36m0:00:00\u001b[0m00:01\u001b[0m00:01\u001b[0m\n",
            "\u001b[?25hCollecting prompt-toolkit!=3.0.37,<3.1.0,>=3.0.30\n",
            "  Using cached prompt_toolkit-3.0.43-py3-none-any.whl (386 kB)\n",
            "Requirement already satisfied: matplotlib-inline in /gpfs/space/home/raineich/.local/lib/python3.8/site-packages (from IPython) (0.1.7)\n",
            "Collecting pexpect>4.3\n",
            "  Using cached pexpect-4.9.0-py2.py3-none-any.whl (63 kB)\n",
            "Collecting pickleshare\n",
            "  Downloading pickleshare-0.7.5-py2.py3-none-any.whl (6.9 kB)\n",
            "Requirement already satisfied: traitlets>=5 in /gpfs/space/home/raineich/.local/lib/python3.8/site-packages (from IPython) (5.14.3)\n",
            "Collecting pygments>=2.4.0\n",
            "  Using cached pygments-2.17.2-py3-none-any.whl (1.2 MB)\n",
            "Collecting decorator\n",
            "  Using cached decorator-5.1.1-py3-none-any.whl (9.1 kB)\n",
            "Requirement already satisfied: typing-extensions in /gpfs/space/home/raineich/.local/lib/python3.8/site-packages (from IPython) (4.11.0)\n",
            "Collecting stack-data\n",
            "  Using cached stack_data-0.6.3-py3-none-any.whl (24 kB)\n",
            "Collecting backcall\n",
            "  Downloading backcall-0.2.0-py2.py3-none-any.whl (11 kB)\n",
            "Collecting jedi>=0.16\n",
            "  Using cached jedi-0.19.1-py2.py3-none-any.whl (1.6 MB)\n",
            "Collecting parso<0.9.0,>=0.8.3\n",
            "  Using cached parso-0.8.4-py2.py3-none-any.whl (103 kB)\n",
            "Collecting ptyprocess>=0.5\n",
            "  Using cached ptyprocess-0.7.0-py2.py3-none-any.whl (13 kB)\n",
            "Collecting wcwidth\n",
            "  Using cached wcwidth-0.2.13-py2.py3-none-any.whl (34 kB)\n",
            "Collecting executing>=1.2.0\n",
            "  Using cached executing-2.0.1-py2.py3-none-any.whl (24 kB)\n",
            "Collecting asttokens>=2.1.0\n",
            "  Using cached asttokens-2.4.1-py2.py3-none-any.whl (27 kB)\n",
            "Collecting pure-eval\n",
            "  Using cached pure_eval-0.2.2-py3-none-any.whl (11 kB)\n",
            "Requirement already satisfied: six>=1.12.0 in /gpfs/space/home/raineich/.local/lib/python3.8/site-packages (from asttokens>=2.1.0->stack-data->IPython) (1.16.0)\n",
            "Installing collected packages: wcwidth, pure-eval, ptyprocess, pickleshare, backcall, pygments, prompt-toolkit, pexpect, parso, executing, decorator, asttokens, stack-data, jedi, IPython\n",
            "\u001b[33m  WARNING: The script pygmentize is installed in '/gpfs/space/home/raineich/.local/bin' which is not on PATH.\n",
            "  Consider adding this directory to PATH or, if you prefer to suppress this warning, use --no-warn-script-location.\u001b[0m\u001b[33m\n",
            "\u001b[0m\u001b[33m  WARNING: The scripts ipython and ipython3 are installed in '/gpfs/space/home/raineich/.local/bin' which is not on PATH.\n",
            "  Consider adding this directory to PATH or, if you prefer to suppress this warning, use --no-warn-script-location.\u001b[0m\u001b[33m\n",
            "\u001b[0mSuccessfully installed IPython-8.12.3 asttokens-2.4.1 backcall-0.2.0 decorator-5.1.1 executing-2.0.1 jedi-0.19.1 parso-0.8.4 pexpect-4.9.0 pickleshare-0.7.5 prompt-toolkit-3.0.43 ptyprocess-0.7.0 pure-eval-0.2.2 pygments-2.17.2 stack-data-0.6.3 wcwidth-0.2.13\n",
            "\u001b[33mWARNING: You are using pip version 22.0.4; however, version 24.0 is available.\n",
            "You should consider upgrading via the '/gpfs/space/software/cluster_software/spack/linux-centos7-x86_64/gcc-9.2.0/python-3.8.13-eqjpp6nun7lqidyzqgdzj5zqif4jwn4a/bin/python -m pip install --upgrade pip' command.\u001b[0m\u001b[33m\n",
            "\u001b[0m"
          ]
        }
      ],
      "source": [
        "!pip install IPython"
      ]
    },
    {
      "cell_type": "code",
      "execution_count": null,
      "id": "a025e356-4421-4cfc-8b30-667b8356d04f",
      "metadata": {
        "id": "a025e356-4421-4cfc-8b30-667b8356d04f",
        "outputId": "aca3af22-e49e-40b1-be3e-02e7900817d4",
        "tags": []
      },
      "outputs": [
        {
          "name": "stdout",
          "output_type": "stream",
          "text": [
            "\u001b[93m2024-05-04 16:39:39,965::WARNING::[vista.entities.sensors.EventCamera.<module>] Fail to import module for event camera. Remember to do source <some-dir>/openeb/build/utils/scripts/setup_env.shCan ignore this if not using it\u001b[0;0m\n",
            "{'wandb_project': None, 'save_video': True, 'model': 'models/classifier-512.onnx', 'speed_model': None, 'model_type': 'steering', 'resize_mode': 'resize', 'dynamics': 'learned', 'road_width': 4.0, 'comment': None, 'tags': [], 'depth_mode': 'monodepth', 'traces': ['trace_backward'], 'traces_root': './traces/', 'verbose': False}\n",
            "/gpfs/space/home/raineich/.local/lib/python3.8/site-packages/onnxruntime/capi/onnxruntime_inference_collection.py:54: UserWarning: Specified provider 'CUDAExecutionProvider' is not in available provider names.Available providers: 'CPUExecutionProvider'\n",
            "  warnings.warn(\n",
            "\u001b[93m2024-05-04 16:39:41,139::WARNING::[vista.core.Trace._get_turn_signal_state_func] No turn signals data found: ./traces/trace_backward/turn_signal.csv.\u001b[0;0m\n",
            "WARNING:Vista:[vista.core.Trace._get_turn_signal_state_func] No turn signals data found: ./traces/trace_backward/turn_signal.csv.\n",
            "\u001b[93m2024-05-04 16:39:41,225::WARNING::[vista.core.Trace._divide_to_good_segments] No video_label.csv\u001b[0;0m\n",
            "WARNING:Vista:[vista.core.Trace._divide_to_good_segments] No video_label.csv\n",
            "-> Loading model from  models/mono+stereo_640x192\n",
            "   Loading pretrained encoder\n",
            "/gpfs/space/home/raineich/.local/lib/python3.8/site-packages/torchvision/models/_utils.py:135: UserWarning: Using 'weights' as positional parameter(s) is deprecated since 0.13 and may be removed in the future. Please use keyword parameter(s) instead.\n",
            "  warnings.warn(\n",
            "/gpfs/space/home/raineich/.local/lib/python3.8/site-packages/torchvision/models/_utils.py:223: UserWarning: Arguments other than a weight enum or `None` for 'weights' are deprecated since 0.13 and may be removed in the future. The current behavior is equivalent to passing `weights=None`.\n",
            "  warnings.warn(msg)\n",
            "   Loading pretrained decoder\n",
            "\u001b[93m2024-05-04 16:39:44,475::WARNING::[vista.entities.sensors.Camera.reset] No flow data\u001b[0;0m\n",
            "WARNING:Vista:[vista.entities.sensors.Camera.reset] No flow data\n",
            "\u001b[93m2024-05-04 16:39:45,632::WARNING::[vista.entities.sensors.Camera.reset] No flow data\u001b[0;0m\n",
            "WARNING:Vista:[vista.entities.sensors.Camera.reset] No flow data\n",
            "trace_backward:   0%|                             | 0/18354 [00:00<?, ?frames/s]/gpfs/space/home/raineich/.local/lib/python3.8/site-packages/descartes/patch.py:62: ShapelyDeprecationWarning: The array interface is deprecated and will no longer work in Shapely 2.0. Convert the '.coords' to a numpy array instead.\n",
            "  vertices = concatenate([\n",
            "INFO:root:Using codec DIVX\n",
            "INFO:root:Using codec MPNG\n",
            "/gpfs/space/home/raineich/vista-evaluation/src/metrics.py:14: RuntimeWarning: Mean of empty slice.\n",
            "  whiteness = np.sqrt(((delta_angles / delta_timestamps) ** 2).mean())\n",
            "/gpfs/space/home/raineich/.local/lib/python3.8/site-packages/numpy/core/_methods.py:190: RuntimeWarning: invalid value encountered in double_scalars\n",
            "  ret = ret.dtype.type(ret / rcount)\n",
            "trace_backward:  58%|█████████▉       | 10724/18354 [16:20<14:06,  9.01frames/s]\u001b[93m2024-05-04 16:56:07,116::WARNING::[vista.entities.sensors.Camera.reset] No flow data\u001b[0;0m\n",
            "WARNING:Vista:[vista.entities.sensors.Camera.reset] No flow data\n",
            "trace_backward:  59%|█████████▉       | 10784/18354 [16:21<02:39, 47.61frames/s]/gpfs/space/home/raineich/.local/lib/python3.8/site-packages/descartes/patch.py:62: ShapelyDeprecationWarning: The array interface is deprecated and will no longer work in Shapely 2.0. Convert the '.coords' to a numpy array instead.\n",
            "  vertices = concatenate([\n",
            "trace_backward: 100%|████████████████▉| 18352/18354 [28:04<00:00, 10.89frames/s]\n",
            "\n",
            "Metrics by trace:\n",
            "./traces/trace_backward: 1 crashes. whiteness_cmd: 42.83, whiteness_eff: 0.78\n",
            "  > 358s\n",
            "\n",
            "Total crashes: 1\n",
            "Average command whiteness: 42.83\n",
            "Average effective whiteness: 0.78\n",
            "Time spent: 1691s (28.18min)\n"
          ]
        }
      ],
      "source": [
        "!python evaluate.py --model models/classifier-512.onnx --traces trace_backward --traces-root ./traces/ --save-video"
      ]
    },
    {
      "cell_type": "code",
      "execution_count": null,
      "id": "e45f2753-bec2-4a63-84f0-ba963641529d",
      "metadata": {
        "id": "e45f2753-bec2-4a63-84f0-ba963641529d",
        "outputId": "baddb2cf-fbbe-4cdd-bf26-2e4bb55c7291",
        "tags": []
      },
      "outputs": [
        {
          "name": "stdout",
          "output_type": "stream",
          "text": [
            "\u001b[93m2024-05-04 16:37:44,614::WARNING::[vista.entities.sensors.EventCamera.<module>] Fail to import module for event camera. Remember to do source <some-dir>/openeb/build/utils/scripts/setup_env.shCan ignore this if not using it\u001b[0;0m\n",
            "{'wandb_project': None, 'save_video': False, 'model': 'models/best.onnx', 'speed_model': None, 'model_type': 'steering', 'resize_mode': 'resize', 'dynamics': 'learned', 'road_width': 4.0, 'comment': None, 'tags': [], 'depth_mode': 'monodepth', 'traces': ['trace_backward'], 'traces_root': './traces/', 'verbose': False}\n",
            "/gpfs/space/home/raineich/.local/lib/python3.8/site-packages/onnxruntime/capi/onnxruntime_inference_collection.py:54: UserWarning: Specified provider 'CUDAExecutionProvider' is not in available provider names.Available providers: 'CPUExecutionProvider'\n",
            "  warnings.warn(\n",
            "\u001b[93m2024-05-04 16:37:47,508::WARNING::[vista.core.Trace._get_turn_signal_state_func] No turn signals data found: ./traces/trace_backward/turn_signal.csv.\u001b[0;0m\n",
            "WARNING:Vista:[vista.core.Trace._get_turn_signal_state_func] No turn signals data found: ./traces/trace_backward/turn_signal.csv.\n",
            "\u001b[93m2024-05-04 16:37:47,595::WARNING::[vista.core.Trace._divide_to_good_segments] No video_label.csv\u001b[0;0m\n",
            "WARNING:Vista:[vista.core.Trace._divide_to_good_segments] No video_label.csv\n",
            "-> Loading model from  models/mono+stereo_640x192\n",
            "   Loading pretrained encoder\n",
            "/gpfs/space/home/raineich/.local/lib/python3.8/site-packages/torchvision/models/_utils.py:135: UserWarning: Using 'weights' as positional parameter(s) is deprecated since 0.13 and may be removed in the future. Please use keyword parameter(s) instead.\n",
            "  warnings.warn(\n",
            "/gpfs/space/home/raineich/.local/lib/python3.8/site-packages/torchvision/models/_utils.py:223: UserWarning: Arguments other than a weight enum or `None` for 'weights' are deprecated since 0.13 and may be removed in the future. The current behavior is equivalent to passing `weights=None`.\n",
            "  warnings.warn(msg)\n",
            "   Loading pretrained decoder\n",
            "\u001b[93m2024-05-04 16:37:51,539::WARNING::[vista.entities.sensors.Camera.reset] No flow data\u001b[0;0m\n",
            "WARNING:Vista:[vista.entities.sensors.Camera.reset] No flow data\n",
            "\u001b[93m2024-05-04 16:37:54,070::WARNING::[vista.entities.sensors.Camera.reset] No flow data\u001b[0;0m\n",
            "WARNING:Vista:[vista.entities.sensors.Camera.reset] No flow data\n",
            "trace_backward:   0%|                             | 0/18354 [00:00<?, ?frames/s]Traceback (most recent call last):\n",
            "  File \"evaluate.py\", line 263, in <module>\n",
            "    metrics = run_evaluation_episode(os.path.basename(trace), model, world, camera, car, display, logging,\n",
            "  File \"evaluate.py\", line 89, in run_evaluation_episode\n",
            "    steering_angle, speed = model.predict(model_input, car)\n",
            "  File \"/gpfs/space/home/raineich/vista-evaluation/src/steering_model.py\", line 42, in predict\n",
            "    return self.steering_model.predict(input_frame).item(), None\n",
            "ValueError: can only convert an array of size 1 to a Python scalar\n",
            "trace_backward:   0%|                             | 0/18354 [00:00<?, ?frames/s]\n"
          ]
        }
      ],
      "source": [
        "!python evaluate.py --model models/best.onnx --traces trace_backward --traces-root ./traces/"
      ]
    },
    {
      "cell_type": "code",
      "execution_count": null,
      "id": "1cbfe926-18b0-45fa-b2d1-3cb233e84afa",
      "metadata": {
        "id": "1cbfe926-18b0-45fa-b2d1-3cb233e84afa",
        "tags": []
      },
      "outputs": [],
      "source": [
        "!source ~/.bash_profile"
      ]
    },
    {
      "cell_type": "code",
      "execution_count": null,
      "id": "2ac86fe5-f549-4908-9af1-29b6f5a08df4",
      "metadata": {
        "id": "2ac86fe5-f549-4908-9af1-29b6f5a08df4",
        "tags": []
      },
      "outputs": [],
      "source": [
        "!source ~/.bashrc\n"
      ]
    },
    {
      "cell_type": "code",
      "execution_count": null,
      "id": "3b47bbe4-3287-4b6c-ac37-7b92da7c5131",
      "metadata": {
        "id": "3b47bbe4-3287-4b6c-ac37-7b92da7c5131",
        "outputId": "f32d6e1e-4372-44b9-f527-1656df72063e",
        "tags": []
      },
      "outputs": [
        {
          "name": "stdout",
          "output_type": "stream",
          "text": [
            "/gpfs/space/software/cluster_software/spack/linux-centos7-x86_64/gcc-9.2.0/miniconda3-22.11.1-poxt7rwd4j7zcag2nbmmq3tqpealst32/condabin:/gpfs/space/software/cluster_software/spack/linux-centos7-x86_64/gcc-9.2.0/miniconda3-22.11.1-poxt7rwd4j7zcag2nbmmq3tqpealst32/bin:/gpfs/space/software/jupyterhub/python/jupyter3/bin:/sbin:/bin:/usr/sbin:/usr/bin\n"
          ]
        }
      ],
      "source": [
        "!export PATH=/gpfs/space/software/cluster_software/spack/linux-centos7-x86_64/gcc-9.2.0/ffmpeg-4.4.1-ns4h4oa5nz5yxtwhvkltu5oyopwlnsir/bin:/gpfs/space/software/cluster_software/spack/linux-centos7-x86_64/gcc-9.2.0/yasm-1.3.0-gvuaxcahrlqfeizkxu37pnpt7jmmnieb/bin:/gpfs/space/software/cluster_software/spack/linux-centos7-x86_64/gcc-9.2.0/libiconv-1.16-lgagwi6e52rlrjftg6bkfywcghlgdw3b/bin:/gpfs/space/software/cluster_software/spack/linux-centos7-x86_64/gcc-9.2.0/alsa-lib-1.2.3.2-y7ixdcior6iwxfpmyrnydudkxvopkrxi/bin:/gpfs/space/home/raineich/refix=~/vista_eval/bin:/gpfs/space/software/cluster_software/spack/linux-centos7-x86_64/gcc-9.2.0/miniconda3-22.11.1-poxt7rwd4j7zcag2nbmmq3tqpealst32/condabin:/gpfs/space/software/cluster_software/spack/linux-centos7-x86_64/gcc-9.2.0/miniconda3-22.11.1-poxt7rwd4j7zcag2nbmmq3tqpealst32/bin:/usr/local/bin:/usr/bin:/usr/local/sbin:/usr/sbin:/gpfs/space/home/raineich/.local/bin:/gpfs/space/home/raineich/bin\n"
      ]
    },
    {
      "cell_type": "code",
      "execution_count": null,
      "id": "cd379ec5-7168-4549-95a1-8353d708b32b",
      "metadata": {
        "id": "cd379ec5-7168-4549-95a1-8353d708b32b",
        "outputId": "e824f366-94c1-44f2-e407-14e9dd47888c",
        "tags": []
      },
      "outputs": [
        {
          "name": "stdout",
          "output_type": "stream",
          "text": [
            "/gpfs/space/software/cluster_software/spack/linux-centos7-x86_64/gcc-9.2.0/ffmpeg-4.4.1-ns4h4oa5nz5yxtwhvkltu5oyopwlnsir/bin:/gpfs/space/software/cluster_software/spack/linux-centos7-x86_64/gcc-9.2.0/yasm-1.3.0-gvuaxcahrlqfeizkxu37pnpt7jmmnieb/bin:/gpfs/space/software/cluster_software/spack/linux-centos7-x86_64/gcc-9.2.0/libiconv-1.16-lgagwi6e52rlrjftg6bkfywcghlgdw3b/bin:/gpfs/space/software/cluster_software/spack/linux-centos7-x86_64/gcc-9.2.0/alsa-lib-1.2.3.2-y7ixdcior6iwxfpmyrnydudkxvopkrxi/bin:/gpfs/space/software/cluster_software/spack/linux-centos7-x86_64/gcc-9.2.0/python-3.8.13-eqjpp6nun7lqidyzqgdzj5zqif4jwn4a/bin:/gpfs/space/software/cluster_software/spack/linux-centos7-x86_64/gcc-9.2.0/xz-5.2.5-4drklsgajo4rdttmwkfall4rklx4jvd4/bin:/gpfs/space/software/cluster_software/spack/linux-centos7-x86_64/gcc-9.2.0/util-linux-uuid-2.36.2-ljvxwz7kdmi3szhxvwd5n7j7qaloctmy/bin:/gpfs/space/software/cluster_software/spack/linux-centos7-x86_64/gcc-9.2.0/sqlite-3.38.5-6om7c4enymngbfes4bs22jwcv47ifolw/bin:/gpfs/space/software/cluster_software/spack/linux-centos7-x86_64/gcc-9.2.0/readline-8.1-jcxe2o7ibne6bokmmoihy774o7udnzay/bin:/gpfs/space/software/cluster_software/spack/linux-centos7-x86_64/gcc-9.2.0/openssl-1.1.1o-m6uvz6ittrnhnwd3oftfljxqwkve44j7/bin:/gpfs/space/software/cluster_software/spack/linux-centos7-x86_64/gcc-9.2.0/miniconda3-22.11.1-poxt7rwd4j7zcag2nbmmq3tqpealst32/condabin:/gpfs/space/software/cluster_software/spack/linux-centos7-x86_64/gcc-9.2.0/miniconda3-22.11.1-poxt7rwd4j7zcag2nbmmq3tqpealst32/bin:/gpfs/space/software/jupyterhub/python/jupyter3/bin:/sbin:/bin:/usr/sbin:/usr/bin\n"
          ]
        }
      ],
      "source": [
        "!echo $PATH"
      ]
    },
    {
      "cell_type": "code",
      "execution_count": null,
      "id": "c618de3a-17c5-4fc3-9f2d-f4f191252181",
      "metadata": {
        "id": "c618de3a-17c5-4fc3-9f2d-f4f191252181",
        "outputId": "c7d16c53-a395-4032-e27c-6836ddb69438",
        "tags": []
      },
      "outputs": [
        {
          "name": "stdout",
          "output_type": "stream",
          "text": [
            "Defaulting to user installation because normal site-packages is not writeable\n",
            "Collecting python-dotenv\n",
            "  Downloading python_dotenv-1.0.1-py3-none-any.whl (19 kB)\n",
            "Installing collected packages: python-dotenv\n",
            "\u001b[33m  WARNING: The script dotenv is installed in '/gpfs/space/home/raineich/.local/bin' which is not on PATH.\n",
            "  Consider adding this directory to PATH or, if you prefer to suppress this warning, use --no-warn-script-location.\u001b[0m\u001b[33m\n",
            "\u001b[0mSuccessfully installed python-dotenv-1.0.1\n",
            "\u001b[33mWARNING: You are using pip version 22.0.4; however, version 24.0 is available.\n",
            "You should consider upgrading via the '/gpfs/space/software/cluster_software/spack/linux-centos7-x86_64/gcc-9.2.0/python-3.8.13-eqjpp6nun7lqidyzqgdzj5zqif4jwn4a/bin/python -m pip install --upgrade pip' command.\u001b[0m\u001b[33m\n",
            "\u001b[0m"
          ]
        }
      ],
      "source": [
        "!pip install python-dotenv"
      ]
    },
    {
      "cell_type": "code",
      "execution_count": null,
      "id": "444537df-c382-484e-91f8-b35c5b3a221c",
      "metadata": {
        "id": "444537df-c382-484e-91f8-b35c5b3a221c",
        "tags": []
      },
      "outputs": [],
      "source": [
        "!module load ffmpeg"
      ]
    }
  ],
  "metadata": {
    "colab": {
      "provenance": []
    },
    "kernelspec": {
      "display_name": "Python 3 (ipykernel)",
      "language": "python",
      "name": "python3"
    },
    "language_info": {
      "codemirror_mode": {
        "name": "ipython",
        "version": 3
      },
      "file_extension": ".py",
      "mimetype": "text/x-python",
      "name": "python",
      "nbconvert_exporter": "python",
      "pygments_lexer": "ipython3",
      "version": "3.12.3"
    }
  },
  "nbformat": 4,
  "nbformat_minor": 5
}
